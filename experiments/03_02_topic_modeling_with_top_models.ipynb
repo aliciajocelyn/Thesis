{
 "cells": [
  {
   "cell_type": "markdown",
   "id": "cfe98824-12bf-4b2b-bf5c-84660e5576a6",
   "metadata": {
    "id": "E013otF9BRrJ"
   },
   "source": [
    "# **Import Libraries**"
   ]
  },
  {
   "cell_type": "code",
   "execution_count": 1,
   "id": "97ead22a-4e8a-46b5-bde9-5987bed791ae",
   "metadata": {
    "colab": {
     "base_uri": "https://localhost:8080/",
     "height": 546
    },
    "id": "uSaG6pL5NPAf",
    "outputId": "8734bb0f-ac5f-4918-8916-263b1ba1a205"
   },
   "outputs": [
    {
     "name": "stderr",
     "output_type": "stream",
     "text": [
      "/usr/local/Caskroom/miniconda/base/envs/thesis/lib/python3.10/site-packages/tqdm/auto.py:21: TqdmWarning: IProgress not found. Please update jupyter and ipywidgets. See https://ipywidgets.readthedocs.io/en/stable/user_install.html\n",
      "  from .autonotebook import tqdm as notebook_tqdm\n"
     ]
    }
   ],
   "source": [
    "import pandas as pd\n",
    "import numpy as np\n",
    "import re\n",
    "import time\n",
    "import random\n",
    "import ast\n",
    "\n",
    "from bertopic import BERTopic\n",
    "from sentence_transformers import SentenceTransformer\n",
    "from umap import UMAP\n",
    "import hdbscan\n",
    "import torch\n",
    "\n",
    "import nlp_id\n",
    "from nlp_id.tokenizer import Tokenizer\n",
    "from nlp_id.stopword import StopWord\n",
    "\n",
    "from openpyxl import Workbook\n",
    "from openpyxl.styles import Font, Alignment, PatternFill\n",
    "from openpyxl.utils.dataframe import dataframe_to_rows\n",
    "\n",
    "import warnings\n",
    "warnings.filterwarnings('ignore')\n",
    "pd.set_option(\"display.max_colwidth\", None)\n",
    "pd.set_option(\"display.max_columns\", None)"
   ]
  },
  {
   "cell_type": "code",
   "execution_count": 2,
   "id": "18d320b6-1988-4a14-ba34-79a03c645a7e",
   "metadata": {},
   "outputs": [],
   "source": [
    "import os\n",
    "os.environ[\"TOKENIZERS_PARALLELISM\"] = \"false\"\n",
    "os.chdir(\"..\")"
   ]
  },
  {
   "cell_type": "code",
   "execution_count": 3,
   "id": "4fd31c2f-31cc-4e9c-99fb-72575117e26e",
   "metadata": {},
   "outputs": [],
   "source": [
    "seed = 42\n",
    "random.seed(seed)\n",
    "np.random.seed(seed)\n",
    "torch.manual_seed(seed)\n",
    "torch.cuda.manual_seed_all(seed)"
   ]
  },
  {
   "cell_type": "code",
   "execution_count": null,
   "id": "29755cea",
   "metadata": {},
   "outputs": [],
   "source": [
    "MODEL_PATH = 'src/models/bertopic_top3'\n",
    "SAVE_RESULT_PATH = 'results/bertopic_top3/inference_results'"
   ]
  },
  {
   "cell_type": "markdown",
   "id": "c2c04ff1-9320-4dc3-be10-78f10a600238",
   "metadata": {},
   "source": [
    "# **Functions**"
   ]
  },
  {
   "cell_type": "code",
   "execution_count": null,
   "id": "a3e5511a",
   "metadata": {},
   "outputs": [],
   "source": [
    "from utils.topic_prediction import *"
   ]
  },
  {
   "cell_type": "code",
   "execution_count": 20,
   "id": "91903454-add2-4799-8723-7c4239adac9d",
   "metadata": {},
   "outputs": [],
   "source": [
    "def load_model(label, topk):\n",
    "    path = os.path.join(MODEL_PATH, f'{label}/best_{label}_model_top{topk}')\n",
    "    model_path = os.path.abspath(path)\n",
    "\n",
    "    path = os.path.join(MODEL_PATH, label, f'embeddings_top{topk}')\n",
    "    embedding = SentenceTransformer(path)\n",
    "\n",
    "    model = BERTopic.load(model_path, embedding_model=embedding)\n",
    "    return model"
   ]
  },
  {
   "cell_type": "code",
   "execution_count": 41,
   "id": "2ebae9f2-a91a-4098-851e-931f3e7432b4",
   "metadata": {},
   "outputs": [],
   "source": [
    "def run_topk_topic_modeling(texts, df, label_name, topk): \n",
    "    if label_name == 'positive': \n",
    "        sentiment = 1\n",
    "    else: \n",
    "        sentiment = 0\n",
    "        \n",
    "    model = load_model(label_name, topk)\n",
    "    \n",
    "    # Predict topics\n",
    "    df_pred = predict_topics(texts, df, model, sentiment)\n",
    "\n",
    "    print(df_pred['topic_name'].value_counts())\n",
    "\n",
    "    save_path = os.path.join(SAVE_RESULT_PATH, label_name, f\"{label_name}_top{topk}_prediction_result.csv\")\n",
    "    os.makedirs(os.path.dirname(save_path), exist_ok=True)\n",
    "    \n",
    "    df_pred.to_csv(save_path, index=False)\n",
    "    print(f\"Prediction saved to {save_path}\")\n",
    "    \n",
    "    return df_pred\n"
   ]
  },
  {
   "cell_type": "markdown",
   "id": "4a03b1eb-1317-48dc-8a12-6706349d0de1",
   "metadata": {},
   "source": [
    "# **Prepare Dataset**"
   ]
  },
  {
   "cell_type": "code",
   "execution_count": 9,
   "id": "a6d07742-81de-437b-b14d-25e4657b05e9",
   "metadata": {},
   "outputs": [],
   "source": [
    "data_path = 'src/data/df_modeling_BERT.csv'\n",
    "df = pd.read_csv(data_path)"
   ]
  },
  {
   "cell_type": "code",
   "execution_count": 10,
   "id": "3f275657-f257-4953-b86c-fb5baae395e5",
   "metadata": {},
   "outputs": [],
   "source": [
    "texts_pos, texts_neg = prepare_dataset(df)"
   ]
  },
  {
   "cell_type": "markdown",
   "id": "2110a486-0968-4712-ace2-21765d2f5deb",
   "metadata": {},
   "source": [
    "# **Experiment**"
   ]
  },
  {
   "cell_type": "markdown",
   "id": "d156882d-d992-4ad3-9345-6da02641f71d",
   "metadata": {},
   "source": [
    "## **Positive**"
   ]
  },
  {
   "cell_type": "markdown",
   "id": "6e4a5a05-8cfc-4aa8-8c5d-70641159b38b",
   "metadata": {},
   "source": [
    "### **Model Top 1**"
   ]
  },
  {
   "cell_type": "code",
   "execution_count": 42,
   "id": "dace9b62-51aa-459c-a5a6-d80f9e159702",
   "metadata": {},
   "outputs": [
    {
     "name": "stdout",
     "output_type": "stream",
     "text": [
      "topic_name\n",
      "0_teman_dosen_kampus_materi              219\n",
      "1_bareng_belajar_teman_ujian              30\n",
      "-1_event_teman_organisasi_kampus          21\n",
      "3_kegiatan_program_acara_seru             18\n",
      "2_program_mahasiswa_magang_enrichment     13\n",
      "Name: count, dtype: int64\n",
      "Prediction saved to results/bertopic_top3/inference_results/positive/positive_top1_prediction_result.csv\n"
     ]
    }
   ],
   "source": [
    "df_pred_top1 = run_topk_topic_modeling(\n",
    "    texts=texts_pos, \n",
    "    df=df, \n",
    "    label_name=\"positive\", \n",
    "    topk=1    \n",
    ")"
   ]
  },
  {
   "cell_type": "markdown",
   "id": "9b9c04b3-95b8-4ca3-afc1-70fcd11bf22c",
   "metadata": {},
   "source": [
    "### **Model Top 2**"
   ]
  },
  {
   "cell_type": "code",
   "execution_count": 12,
   "id": "fff0d6d6-a663-4788-be74-3198f741d84d",
   "metadata": {},
   "outputs": [
    {
     "name": "stdout",
     "output_type": "stream",
     "text": [
      "topic_name\n",
      "0_teman_kampus_dosen_materi              202\n",
      "2_bareng_belajar_teman_ujian              28\n",
      "1_bertemu_teman_orang_koneksi             26\n",
      "-1_event_teman_organisasi_kampus          17\n",
      "4_kegiatan_program_acara_seru             16\n",
      "3_program_mahasiswa_magang_enrichment     12\n",
      "Name: count, dtype: int64\n",
      "Prediction saved to results/bertopic_top3/inference_results/positive/positive_top2_prediction_result.csv\n"
     ]
    }
   ],
   "source": [
    "df_pred_top2 = run_topk_topic_modeling(\n",
    "    texts=texts_pos, \n",
    "    df=df, \n",
    "    label_name=\"positive\", \n",
    "    topk=2\n",
    ")"
   ]
  },
  {
   "cell_type": "markdown",
   "id": "cf7f1e03-4f0e-4b93-b2e3-22f05b873b61",
   "metadata": {},
   "source": [
    "### **Model Top 3**"
   ]
  },
  {
   "cell_type": "code",
   "execution_count": 13,
   "id": "ccd54e34-2912-4301-a959-97deef67966c",
   "metadata": {},
   "outputs": [
    {
     "name": "stdout",
     "output_type": "stream",
     "text": [
      "topic_name\n",
      "0_teman_kampus_dosen_materi              240\n",
      "1_bareng_teman_ujian_bagus                24\n",
      "3_kegiatan_program_acara_seru             16\n",
      "2_program_mahasiswa_magang_enrichment     13\n",
      "-1_artikel_event_organisasi_menulis        8\n",
      "Name: count, dtype: int64\n",
      "Prediction saved to results/bertopic_top3/inference_results/positive/positive_top3_prediction_result.csv\n"
     ]
    }
   ],
   "source": [
    "df_pred_top3 = run_topk_topic_modeling(\n",
    "    texts=texts_pos, \n",
    "    df=df, \n",
    "    label_name=\"positive\", \n",
    "    topk=3)"
   ]
  },
  {
   "cell_type": "markdown",
   "id": "7742189a-4473-4569-8e70-f14278fdf436",
   "metadata": {},
   "source": [
    "### **Model Top 4**"
   ]
  },
  {
   "cell_type": "code",
   "execution_count": 14,
   "id": "6aa21a6e-c191-4b3f-9faf-6e8bd6a5c3c5",
   "metadata": {},
   "outputs": [
    {
     "name": "stdout",
     "output_type": "stream",
     "text": [
      "topic_name\n",
      "0_teman_dosen_kampus_materi          228\n",
      "2_belajar_bareng_teman_ujian          30\n",
      "-1_event_teman_organisasi_kampus      22\n",
      "1_program_mahasiswa_magang_kampus     21\n",
      "Name: count, dtype: int64\n",
      "Prediction saved to results/bertopic_top3/inference_results/positive/positive_top4_prediction_result.csv\n"
     ]
    }
   ],
   "source": [
    "df_pred_top4 = run_topk_topic_modeling(\n",
    "    texts=texts_pos, \n",
    "    df=df, \n",
    "    label_name=\"positive\", \n",
    "    topk=4\n",
    ")"
   ]
  },
  {
   "cell_type": "markdown",
   "id": "da3a836a-13bb-4b3c-a6a2-a40fefec1fb0",
   "metadata": {},
   "source": [
    "### **Model Top 5**"
   ]
  },
  {
   "cell_type": "code",
   "execution_count": 16,
   "id": "4a59b434-0a88-465c-8bc9-4754e3622af4",
   "metadata": {},
   "outputs": [
    {
     "name": "stdout",
     "output_type": "stream",
     "text": [
      "topic_name\n",
      "0_teman_kampus_dosen_materi              233\n",
      "-1_kegiatan_ukm_materi_mahasiswa          48\n",
      "1_organisasi_soft_kegiatan_pengalaman     20\n",
      "Name: count, dtype: int64\n",
      "Prediction saved to results/bertopic_top3/inference_results/positive/positive_top5_prediction_result.csv\n"
     ]
    }
   ],
   "source": [
    "df_pred_top5 = run_topk_topic_modeling(\n",
    "    texts=texts_pos, \n",
    "    df=df, \n",
    "    label_name=\"positive\", \n",
    "    topk=5\n",
    ")"
   ]
  },
  {
   "cell_type": "markdown",
   "id": "e3c957b5-9c6f-4085-bebc-69bd7f8f6aa2",
   "metadata": {},
   "source": [
    "## **Negative**"
   ]
  },
  {
   "cell_type": "markdown",
   "id": "0dc5042e-34f9-44a7-8099-b604b20c2d58",
   "metadata": {},
   "source": [
    "### **Model Top 1**"
   ]
  },
  {
   "cell_type": "code",
   "execution_count": 21,
   "id": "975a1e25-0888-4bf1-a18c-89b9d834612f",
   "metadata": {
    "scrolled": true
   },
   "outputs": [
    {
     "name": "stdout",
     "output_type": "stream",
     "text": [
      "topic_name\n",
      "0_kampus_wifi_fasilitas_toilet       140\n",
      "1_dosen_materi_mahasiswa_mengajar     75\n",
      "-1_fasilitas_kampus_dosen_kuliah      61\n",
      "2_kuliah_mata_pagi_jam                13\n",
      "3_tugas_ubah_menumpuk_bersamaan       12\n",
      "Name: count, dtype: int64\n",
      "Prediction saved to results/bertopic_top3/inference_results/negative/negative_top1_prediction_result.csv\n"
     ]
    }
   ],
   "source": [
    "df_pred_top1 = run_topk_topic_modeling(\n",
    "    texts=texts_neg, \n",
    "    df=df, \n",
    "    label_name=\"negative\", \n",
    "    topk=1\n",
    ")"
   ]
  },
  {
   "cell_type": "markdown",
   "id": "cb96e008-f950-41a5-bc21-9a5481b06008",
   "metadata": {},
   "source": [
    "### **Model Top 2**"
   ]
  },
  {
   "cell_type": "code",
   "execution_count": 22,
   "id": "65f3f16a-e787-4240-91a0-3fea99105994",
   "metadata": {},
   "outputs": [
    {
     "name": "stdout",
     "output_type": "stream",
     "text": [
      "topic_name\n",
      "0_kampus_wifi_fasilitas_toilet       122\n",
      "1_dosen_materi_mahasiswa_mengajar     75\n",
      "-1_fasilitas_kampus_dosen_kuliah      51\n",
      "2_toilet_tissue_fasilitas_tangan      29\n",
      "3_kuliah_mata_pagi_jam                13\n",
      "4_tugas_ubah_menumpuk_bersamaan       11\n",
      "Name: count, dtype: int64\n",
      "Prediction saved to results/bertopic_top3/inference_results/negative/negative_top2_prediction_result.csv\n"
     ]
    }
   ],
   "source": [
    "df_pred_top2 = run_topk_topic_modeling(\n",
    "    texts=texts_neg, \n",
    "    df=df, \n",
    "    label_name=\"negative\", \n",
    "    topk=2\n",
    ")"
   ]
  },
  {
   "cell_type": "markdown",
   "id": "c799a42c-723a-4006-b163-e238a505e213",
   "metadata": {},
   "source": [
    "### **Model Top 3**"
   ]
  },
  {
   "cell_type": "code",
   "execution_count": 23,
   "id": "d4a8f464-215d-4524-a1a2-26cdf142cb48",
   "metadata": {},
   "outputs": [
    {
     "name": "stdout",
     "output_type": "stream",
     "text": [
      "topic_name\n",
      "1_dosen_materi_mahasiswa_mengajar    198\n",
      "-1_hal_orang_kuliah_panas             44\n",
      "0_kampus_wifi_fasilitas_toilet        43\n",
      "2_kuliah_jam_mata_pagi                15\n",
      "3_toilet_tissue_tangan_fasilitas       1\n",
      "Name: count, dtype: int64\n",
      "Prediction saved to results/bertopic_top3/inference_results/negative/negative_top3_prediction_result.csv\n"
     ]
    }
   ],
   "source": [
    "df_pred_top3 = run_topk_topic_modeling(\n",
    "    texts=texts_pos, \n",
    "    df=df, \n",
    "    label_name=\"negative\", \n",
    "    topk=3\n",
    ")"
   ]
  },
  {
   "cell_type": "markdown",
   "id": "518373b1-2b53-42cc-bc75-d4e373f86f8a",
   "metadata": {},
   "source": [
    "### **Model Top 4**"
   ]
  },
  {
   "cell_type": "code",
   "execution_count": 24,
   "id": "a9220530-c86c-440f-ba1f-dde3a2dca0f6",
   "metadata": {},
   "outputs": [
    {
     "name": "stdout",
     "output_type": "stream",
     "text": [
      "topic_name\n",
      "1_dosen_materi_mahasiswa_hal          196\n",
      "0_kampus_fasilitas_wifi_toilet         77\n",
      "2_jadwal_kuliah_mata_pagi              18\n",
      "-1_kristiani_orang_arsitek_lulusan     10\n",
      "Name: count, dtype: int64\n",
      "Prediction saved to results/bertopic_top3/inference_results/negative/negative_top4_prediction_result.csv\n"
     ]
    }
   ],
   "source": [
    "df_pred_top4 = run_topk_topic_modeling(\n",
    "    texts=texts_pos, \n",
    "    df=df, \n",
    "    label_name=\"negative\", \n",
    "    topk=4\n",
    ")"
   ]
  },
  {
   "cell_type": "markdown",
   "id": "5bbeb7c1-28eb-4220-a9ad-283c4d6fc747",
   "metadata": {},
   "source": [
    "### **Model Top 5**"
   ]
  },
  {
   "cell_type": "code",
   "execution_count": 25,
   "id": "2a445769-46ab-4d14-a44e-00dc0c2e983f",
   "metadata": {},
   "outputs": [
    {
     "name": "stdout",
     "output_type": "stream",
     "text": [
      "topic_name\n",
      "1_dosen_materi_mahasiswa_hal          196\n",
      "0_kampus_fasilitas_wifi_toilet         77\n",
      "2_jadwal_kuliah_mata_pagi              18\n",
      "-1_kristiani_orang_arsitek_lulusan     10\n",
      "Name: count, dtype: int64\n",
      "Prediction saved to results/bertopic_top3/inference_results/negative/negative_top5_prediction_result.csv\n"
     ]
    }
   ],
   "source": [
    "df_pred_top5 = run_topk_topic_modeling(\n",
    "    texts=texts_pos, \n",
    "    df=df, \n",
    "    label_name=\"negative\", \n",
    "    topk=5\n",
    ")"
   ]
  },
  {
   "cell_type": "code",
   "execution_count": null,
   "id": "f7edb4a2",
   "metadata": {},
   "outputs": [],
   "source": []
  }
 ],
 "metadata": {
  "kernelspec": {
   "display_name": "thesis",
   "language": "python",
   "name": "python3"
  },
  "language_info": {
   "codemirror_mode": {
    "name": "ipython",
    "version": 3
   },
   "file_extension": ".py",
   "mimetype": "text/x-python",
   "name": "python",
   "nbconvert_exporter": "python",
   "pygments_lexer": "ipython3",
   "version": "3.10.0"
  }
 },
 "nbformat": 4,
 "nbformat_minor": 5
}
