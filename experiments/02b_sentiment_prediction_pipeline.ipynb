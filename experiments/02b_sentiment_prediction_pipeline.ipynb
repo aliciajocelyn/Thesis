{
 "cells": [
  {
   "cell_type": "markdown",
   "metadata": {
    "id": "E013otF9BRrJ"
   },
   "source": [
    "# **Import Libraries and Prepare Dataset**"
   ]
  },
  {
   "cell_type": "code",
   "execution_count": 2,
   "metadata": {
    "colab": {
     "base_uri": "https://localhost:8080/",
     "height": 52
    },
    "executionInfo": {
     "elapsed": 14102,
     "status": "ok",
     "timestamp": 1754105641085,
     "user": {
      "displayName": "alicia siahaya",
      "userId": "00095746084346106118"
     },
     "user_tz": -420
    },
    "id": "uSaG6pL5NPAf",
    "outputId": "49887d29-27ee-46d0-b02d-34f80df54a3d"
   },
   "outputs": [
    {
     "name": "stderr",
     "output_type": "stream",
     "text": [
      "[nltk_data] Downloading package punkt_tab to\n",
      "[nltk_data]     /Users/alicia.siahaya/nltk_data...\n",
      "[nltk_data]   Package punkt_tab is already up-to-date!\n",
      "/usr/local/Caskroom/miniconda/base/envs/thesis/lib/python3.10/site-packages/tqdm/auto.py:21: TqdmWarning: IProgress not found. Please update jupyter and ipywidgets. See https://ipywidgets.readthedocs.io/en/stable/user_install.html\n",
      "  from .autonotebook import tqdm as notebook_tqdm\n"
     ]
    }
   ],
   "source": [
    "import pandas as pd\n",
    "import matplotlib.pyplot as plt\n",
    "import seaborn as sns\n",
    "import time\n",
    "from wordcloud import WordCloud\n",
    "from collections import Counter\n",
    "\n",
    "import re\n",
    "import nltk\n",
    "nltk.download('punkt_tab')\n",
    "\n",
    "from sklearn.model_selection import train_test_split\n",
    "\n",
    "import stanza\n",
    "import Sastrawi\n",
    "from Sastrawi.StopWordRemover.StopWordRemoverFactory import StopWordRemoverFactory\n",
    "from nlp_id.lemmatizer import Lemmatizer\n",
    "from nlp_id.tokenizer import Tokenizer\n",
    "from nlp_id.stopword import StopWord\n",
    "\n",
    "import warnings\n",
    "warnings.filterwarnings('ignore')\n",
    "pd.set_option(\"display.max_colwidth\", None)"
   ]
  },
  {
   "cell_type": "code",
   "execution_count": 3,
   "metadata": {
    "colab": {
     "base_uri": "https://localhost:8080/",
     "height": 34
    },
    "executionInfo": {
     "elapsed": 1378,
     "status": "ok",
     "timestamp": 1754105642479,
     "user": {
      "displayName": "alicia siahaya",
      "userId": "00095746084346106118"
     },
     "user_tz": -420
    },
    "id": "ErwX7NjLcBI8",
    "outputId": "8061f393-930b-4d72-d366-a97253b6d4c5"
   },
   "outputs": [
    {
     "name": "stdout",
     "output_type": "stream",
     "text": [
      "(301, 7)\n"
     ]
    }
   ],
   "source": [
    "url = (\n",
    "    \"https://docs.google.com/spreadsheets/d/e/2PACX-1vQx0P59eV_KGGFJe-l86dgsz9pZRehTRJoOP_tyVXbrQPtzmD97E1lZ0lgFJ-ATVTT9HkBRX5g1kRKB/pub?output=csv\"\n",
    ")\n",
    "df = pd.read_csv(url)\n",
    "print(df.shape)"
   ]
  },
  {
   "cell_type": "code",
   "execution_count": 4,
   "metadata": {
    "colab": {
     "base_uri": "https://localhost:8080/",
     "height": 17
    },
    "executionInfo": {
     "elapsed": 52,
     "status": "ok",
     "timestamp": 1754105642533,
     "user": {
      "displayName": "alicia siahaya",
      "userId": "00095746084346106118"
     },
     "user_tz": -420
    },
    "id": "hR_lrZiCTZ-k",
    "outputId": "0092dc5c-eb67-4645-ae54-ec1b1b9f714d"
   },
   "outputs": [],
   "source": [
    "df_melt = df.melt(\n",
    "    value_vars=[\n",
    "        \"Apa yang Anda sukai selama masa perkuliahan Anda?\",\n",
    "        \"Apa yang Anda tidak sukai selama masa perkuliahan Anda?\"\n",
    "    ],\n",
    "    var_name='sentiment',\n",
    "    value_name='text'\n",
    ")\n",
    "\n",
    "sentiment_map = {\n",
    "    \"Apa yang Anda sukai selama masa perkuliahan Anda?\": 'positive',\n",
    "    \"Apa yang Anda tidak sukai selama masa perkuliahan Anda?\": 'negative'\n",
    "}\n",
    "df_melt['sentiment'] = df_melt['sentiment'].map(sentiment_map)\n",
    "\n",
    "df_preprocess = df_melt[['text', 'sentiment']]"
   ]
  },
  {
   "cell_type": "markdown",
   "metadata": {
    "id": "QAeW7HDvLJay"
   },
   "source": [
    "# **Data Cleansing and Preprocessing**"
   ]
  },
  {
   "cell_type": "markdown",
   "metadata": {
    "id": "Zn44zcqFLxt-"
   },
   "source": [
    "## Split Data"
   ]
  },
  {
   "cell_type": "code",
   "execution_count": 5,
   "metadata": {
    "colab": {
     "base_uri": "https://localhost:8080/",
     "height": 17
    },
    "executionInfo": {
     "elapsed": 6,
     "status": "ok",
     "timestamp": 1754105642546,
     "user": {
      "displayName": "alicia siahaya",
      "userId": "00095746084346106118"
     },
     "user_tz": -420
    },
    "id": "0vAHiKQGLxE2",
    "outputId": "2041fb5a-7d15-4b3f-90e4-dc01cd8329bd"
   },
   "outputs": [],
   "source": [
    "def split_data(df, validation_data=False):\n",
    "    if validation_data:\n",
    "        train_df, val_test_df = train_test_split(\n",
    "            df, test_size=0.2, random_state=42, stratify=df['sentiment']\n",
    "        )\n",
    "        val_df, test_df = train_test_split(\n",
    "            val_test_df, test_size=0.5, random_state=42, stratify=val_test_df['sentiment']\n",
    "        )\n",
    "\n",
    "        X_train = train_df['text']\n",
    "        y_train = train_df['sentiment']\n",
    "        X_val = val_df['text']\n",
    "        y_val = val_df['sentiment']\n",
    "        X_test = test_df['text']\n",
    "        y_test = test_df['sentiment']\n",
    "\n",
    "        print(f'Training shape: {X_train.shape}, {y_train.shape}')\n",
    "        print(f'Validation shape: {X_val.shape}, {y_val.shape}')\n",
    "        print(f'Test shape: {X_test.shape}, {y_test.shape}')\n",
    "        return X_train, y_train, X_val, y_val, X_test, y_test\n",
    "\n",
    "    # Only train/test split\n",
    "    train_df, test_df = train_test_split(\n",
    "        df, test_size=0.2, random_state=42, stratify=df['sentiment']\n",
    "    )\n",
    "    X_train = train_df['text']\n",
    "    y_train = train_df['sentiment']\n",
    "    X_test = test_df['text']\n",
    "    y_test = test_df['sentiment']\n",
    "    print(f'Training shape: {X_train.shape}, {y_train.shape}')\n",
    "    print(f'Test shape: {X_test.shape}, {y_test.shape}')\n",
    "    return X_train, y_train, X_test, y_test"
   ]
  },
  {
   "cell_type": "markdown",
   "metadata": {
    "id": "I2eCu_a7LRIi"
   },
   "source": [
    "## Data Cleansing"
   ]
  },
  {
   "cell_type": "code",
   "execution_count": 10,
   "metadata": {},
   "outputs": [],
   "source": [
    "import sys\n",
    "sys.path.append(\"../src/dictionary\")\n",
    "sys.path.append(\"../src/models\")"
   ]
  },
  {
   "cell_type": "code",
   "execution_count": 11,
   "metadata": {
    "colab": {
     "base_uri": "https://localhost:8080/",
     "height": 17
    },
    "executionInfo": {
     "elapsed": 545,
     "status": "ok",
     "timestamp": 1754105643116,
     "user": {
      "displayName": "alicia siahaya",
      "userId": "00095746084346106118"
     },
     "user_tz": -420
    },
    "id": "XmrY97W0LHpx",
    "outputId": "04b26e14-3b9b-4e63-cd51-eb4181d6d6d9"
   },
   "outputs": [],
   "source": [
    "from normalization_dictionary import norm_dict\n",
    "\n",
    "def correct_typos(text):\n",
    "    for typo, correction in norm_dict.items():\n",
    "        text = re.sub(typo, correction, text, flags=re.IGNORECASE)\n",
    "    return text\n",
    "\n",
    "# Contoh: \"Saya sukaaaa sekali dengan kampus saya\" -> \"Saya suka sekali dengan kampus saya\"\n",
    "def reduce_extra_characters(text):\n",
    "    return re.sub(r'(.)\\1{2,}', r'\\1', text)\n",
    "\n",
    "exception_words = [\"tanya\", 'punya', 'bertanya', 'hanya'] # Kata-kata yang berakhiran dengan -nya namun memiliki arti sendiri\n",
    "def split_nya(word):\n",
    "    if word in exception_words:\n",
    "        return word\n",
    "    return re.sub(r'(.*?)nya$', r'\\1 nya', word)\n",
    "\n",
    "def process_split_nya(review):\n",
    "    words = review.split()\n",
    "    processed_words = [split_nya(word.strip()) for word in words]\n",
    "    return ' '.join(processed_words)\n",
    "\n",
    "def text_cleansing(text):\n",
    "    # Mengubah ke huruf kecil\n",
    "    text = text.lower()\n",
    "\n",
    "    # Menghapus simbol dan angka\n",
    "    text = re.sub(r\"[^a-zA-Z\\s']\", ' ', text)\n",
    "\n",
    "    # Memisahkan kata dengan akhiran -nya\n",
    "    text = process_split_nya(text)\n",
    "\n",
    "    # Memperbaiki typo dan huruf yang berlebih\n",
    "    text = correct_typos(text)\n",
    "    text = reduce_extra_characters(text)\n",
    "\n",
    "    # Menghapus spasi yang berlebih\n",
    "    text = re.sub(r'\\s+', ' ', text).strip()\n",
    "\n",
    "    return text"
   ]
  },
  {
   "cell_type": "markdown",
   "metadata": {
    "id": "ovy8NaawLngJ"
   },
   "source": [
    "## Data Preprocessing"
   ]
  },
  {
   "cell_type": "code",
   "execution_count": 12,
   "metadata": {
    "colab": {
     "base_uri": "https://localhost:8080/",
     "height": 17
    },
    "executionInfo": {
     "elapsed": 2031,
     "status": "ok",
     "timestamp": 1754105645159,
     "user": {
      "displayName": "alicia siahaya",
      "userId": "00095746084346106118"
     },
     "user_tz": -420
    },
    "id": "HyYSD8MZOT-8",
    "outputId": "1b67ae65-f75b-4bb2-e8a2-928ca8746c63"
   },
   "outputs": [],
   "source": [
    "from exclude_words import exclude_lemmatization, exclude_stopwords\n",
    "\n",
    "lemmatizer = Lemmatizer()\n",
    "tokenizer = Tokenizer()\n",
    "stopword = StopWord()\n",
    "\n",
    "# Menambahkan kata untuk stop words\n",
    "stop_words = stopword.get_stopword()\n",
    "custom_stopwords = ['nya', 'ya', 'nih']\n",
    "stop_words.append(custom_stopwords)\n",
    "\n",
    "def text_preprocessing(text):\n",
    "    # Tokenisasi menggunakan Tokenizer dari nlp_id\n",
    "    tokens = tokenizer.tokenize(text)\n",
    "\n",
    "    # Lematisasi dan hapus stopwords\n",
    "    lemmatized_tokens = [\n",
    "        lemmatizer.lemmatize(word) if (word not in exclude_stopwords and word not in exclude_lemmatization) else word\n",
    "        for word in tokens\n",
    "        if word not in stop_words or word in exclude_stopwords\n",
    "    ]\n",
    "\n",
    "    # Gabungkan kembali menjadi teks dan hapus spasi berlebih\n",
    "    processed_text = re.sub(r'\\s+', ' ', ' '.join(lemmatized_tokens)).strip()\n",
    "\n",
    "    return processed_text"
   ]
  },
  {
   "cell_type": "code",
   "execution_count": 20,
   "metadata": {
    "colab": {
     "base_uri": "https://localhost:8080/",
     "height": 495,
     "referenced_widgets": [
      "9e3b99c605964ae0b56ea66c75a87332",
      "408a48578d46410f912dd353e2ca6155",
      "71cb0a66f8bf4d0f8af8dc70c1f2e666",
      "62eb0492414945f48db9219e0fbb8f55",
      "9bb8527d2e744e4b82a61472687dbaac",
      "a4633b69ce8645b2a793986dbb45b16d",
      "ebbd3d9aa9e542728c945b70ec66b500",
      "dab6f64e4af44c1ba0e7ffcfb0f01a60",
      "b12d469dd03c45468eddfeeb8cabd455",
      "265e584fd22a4e02af8bf83f4a2cfae1",
      "f2a56143f6d44a8bb4b528d0c8899d0b",
      "b6c054bf3301402296a6aee354ee5961",
      "0d38e15712a04133959793daef5d2372",
      "ebbd85746c0b41518bf2666e322cb737",
      "0aa9e4d15f9140b8983e48f1266f1394",
      "dde2c5a4228747e7b14e8dc3af42117e",
      "6f3ff52629a44debb2efa092e47642b1",
      "b2a4a7d7f78746dd9317b12a390665f5",
      "3e6cd84c5cf1411aa1c7d4c8d681af82",
      "7b8f727f938540b58754b90a17161f77",
      "067f2bfd96bd4836bc6febf0a09d8b0c",
      "1029bd6b6194477889f01bb4ffbadc27",
      "76c9862d902d4d869cbaaef231f0ed28",
      "29c430ce61784c8c9d214093a0675285",
      "2df5b7e5cffa436d92999aa686c21a62",
      "94968e7d4e5c4d539bb9af31ad058fa9",
      "691b02d5c5c045b08a80bc7f1d33ef2d",
      "5c32ff9ddf4140499aca2cc22450884c",
      "4d1a589083bc40bd9538bd5f27bfeaa2",
      "c9f298db37fc43b59ec9b484f3b5b0c7",
      "5fa3add8bb5847b6b5ae7b68931ac22a",
      "d513b8bc85224bada89ca3d309b94c6c",
      "48e1be006b95401cbf334c71ef80476c"
     ]
    },
    "executionInfo": {
     "elapsed": 27598,
     "status": "ok",
     "timestamp": 1754105672758,
     "user": {
      "displayName": "alicia siahaya",
      "userId": "00095746084346106118"
     },
     "user_tz": -420
    },
    "id": "QzN5c9gsLsmJ",
    "outputId": "68158c73-fc12-42db-db61-c69cf2534e9d"
   },
   "outputs": [
    {
     "name": "stderr",
     "output_type": "stream",
     "text": [
      "Downloading https://raw.githubusercontent.com/stanfordnlp/stanza-resources/main/resources_1.10.0.json: 433kB [00:00, 50.4MB/s]                    \n",
      "2025-08-15 12:22:08 INFO: Downloaded file to /Users/alicia.siahaya/stanza_resources/resources.json\n",
      "2025-08-15 12:22:08 INFO: Downloading default packages for language: id (Indonesian) ...\n",
      "2025-08-15 12:22:10 INFO: File exists: /Users/alicia.siahaya/stanza_resources/id/default.zip\n",
      "2025-08-15 12:22:14 INFO: Finished downloading models and saved to /Users/alicia.siahaya/stanza_resources\n",
      "2025-08-15 12:22:14 INFO: Checking for updates to resources.json in case models have been updated.  Note: this behavior can be turned off with download_method=None or download_method=DownloadMethod.REUSE_RESOURCES\n",
      "Downloading https://raw.githubusercontent.com/stanfordnlp/stanza-resources/main/resources_1.10.0.json: 433kB [00:00, 19.7MB/s]                    \n",
      "2025-08-15 12:22:14 INFO: Downloaded file to /Users/alicia.siahaya/stanza_resources/resources.json\n",
      "2025-08-15 12:22:14 INFO: Loading these models for language: id (Indonesian):\n",
      "============================\n",
      "| Processor | Package      |\n",
      "----------------------------\n",
      "| tokenize  | gsd          |\n",
      "| mwt       | gsd          |\n",
      "| pos       | gsd_charlm   |\n",
      "| lemma     | gsd_nocharlm |\n",
      "============================\n",
      "\n",
      "2025-08-15 12:22:14 INFO: Using device: cpu\n",
      "2025-08-15 12:22:14 INFO: Loading: tokenize\n",
      "2025-08-15 12:22:15 INFO: Loading: mwt\n",
      "2025-08-15 12:22:15 INFO: Loading: pos\n",
      "2025-08-15 12:22:18 INFO: Loading: lemma\n",
      "2025-08-15 12:22:19 INFO: Done loading processors!\n"
     ]
    }
   ],
   "source": [
    "from exclude_words import exclude_lemmatization, exclude_stopwords\n",
    "\n",
    "stanza.download('id')\n",
    "nlp = stanza.Pipeline(lang='id', processors='tokenize,mwt,pos,lemma')\n",
    "\n",
    "factory = StopWordRemoverFactory()\n",
    "sastrawi_stopwords = set(factory.get_stop_words())\n",
    "custom_stopwords = {'nya', 'ya', 'nih'}\n",
    "all_stopwords = sastrawi_stopwords.union(custom_stopwords)\n",
    "\n",
    "def text_preprocessing2(text):\n",
    "  doc = nlp(text)\n",
    "\n",
    "  lemmatized_tokens = []\n",
    "  for sentence in doc.sentences:\n",
    "      for word in sentence.words:\n",
    "          token = word.text.lower()\n",
    "          lemma = word.lemma.lower()\n",
    "\n",
    "          # Lakukan filtering stopwords dan pengecualian\n",
    "          if token in exclude_stopwords or token not in all_stopwords:\n",
    "              lemmatized_token = token if token in exclude_lemmatization else lemma\n",
    "              lemmatized_tokens.append(lemmatized_token)\n",
    "\n",
    "  # Hapus spasi berlebih dan gabungkan kembali ke teks\n",
    "  cleaned_text = re.sub(r'\\s+', ' ', ' '.join(lemmatized_tokens)).strip()\n",
    "\n",
    "  return cleaned_text"
   ]
  },
  {
   "cell_type": "markdown",
   "metadata": {
    "id": "ivNcCEJtN4et"
   },
   "source": [
    "## Vectorize Text"
   ]
  },
  {
   "cell_type": "markdown",
   "metadata": {
    "id": "hu8obmHcMon9"
   },
   "source": [
    "## Data Preparation"
   ]
  },
  {
   "cell_type": "code",
   "execution_count": 13,
   "metadata": {
    "colab": {
     "base_uri": "https://localhost:8080/",
     "height": 17
    },
    "executionInfo": {
     "elapsed": 7,
     "status": "ok",
     "timestamp": 1754105672770,
     "user": {
      "displayName": "alicia siahaya",
      "userId": "00095746084346106118"
     },
     "user_tz": -420
    },
    "id": "BFAOR_psMqHz",
    "outputId": "9d6f5608-7042-420b-9c55-1725603fec28"
   },
   "outputs": [],
   "source": [
    "def prepare_dataset(df, model_type, preprocess_type=None):\n",
    "  df['cleaned_text'] = df['text'].apply(text_cleansing)\n",
    "\n",
    "  if model_type == 'svm':\n",
    "    if preprocess_type == 'nlp_id':\n",
    "      df['preprocessed_text_nlp_id'] = df['cleaned_text'].apply(text_preprocessing)\n",
    "      return df\n",
    "\n",
    "    if preprocess_type == 'stanza':\n",
    "      df['preprocessed_text_stanza'] = df['cleaned_text'].apply(text_preprocessing2)\n",
    "      return df\n",
    "\n",
    "  if model_type == 'indobert':\n",
    "    return df"
   ]
  },
  {
   "cell_type": "markdown",
   "metadata": {
    "id": "QSrUd8XQMCnl"
   },
   "source": [
    "# **Modeling**"
   ]
  },
  {
   "cell_type": "code",
   "execution_count": 14,
   "metadata": {
    "colab": {
     "base_uri": "https://localhost:8080/",
     "height": 17
    },
    "executionInfo": {
     "elapsed": 20282,
     "status": "ok",
     "timestamp": 1754105705638,
     "user": {
      "displayName": "alicia siahaya",
      "userId": "00095746084346106118"
     },
     "user_tz": -420
    },
    "id": "Lzt3MzxAMESh",
    "outputId": "6460696a-fe84-4f4b-9ab7-31c9766c8611"
   },
   "outputs": [],
   "source": [
    "import pandas as pd\n",
    "import numpy as np\n",
    "\n",
    "from sklearn.feature_extraction.text import TfidfVectorizer\n",
    "\n",
    "from sklearn import svm\n",
    "from transformers import AutoTokenizer, AutoModelForSequenceClassification, Trainer, TrainingArguments\n",
    "import torch\n",
    "from datasets import Dataset\n",
    "\n",
    "from sklearn.metrics import accuracy_score, recall_score, precision_score, f1_score, roc_auc_score, log_loss\n",
    "from sklearn.metrics import classification_report, confusion_matrix\n",
    "\n",
    "from collections import defaultdict\n",
    "\n",
    "import warnings\n",
    "warnings.filterwarnings('ignore')\n",
    "pd.set_option(\"display.max_colwidth\", None)\n",
    "pd.set_option(\"display.max_columns\", None)"
   ]
  },
  {
   "cell_type": "markdown",
   "metadata": {
    "id": "kYt87GmoMA1L"
   },
   "source": [
    "# **PIPELINE**"
   ]
  },
  {
   "cell_type": "code",
   "execution_count": 15,
   "metadata": {
    "colab": {
     "base_uri": "https://localhost:8080/",
     "height": 17
    },
    "executionInfo": {
     "elapsed": 20999,
     "status": "ok",
     "timestamp": 1754105726639,
     "user": {
      "displayName": "alicia siahaya",
      "userId": "00095746084346106118"
     },
     "user_tz": -420
    },
    "id": "3rbZKUfPP4Eg",
    "outputId": "05ea14ce-21d2-4a1e-f1b7-0cca8cd02b0f"
   },
   "outputs": [],
   "source": [
    "import pickle\n",
    "\n",
    "with open('../src/models/svm_model/vectorizer1.pkl', 'rb') as f:\n",
    "    vectorizer1 = pickle.load(f)\n",
    "\n",
    "with open('../src/models/svm_model/model_svm1.pkl', 'rb') as f:\n",
    "    model1 = pickle.load(f)\n",
    "\n",
    "with open('../src/models/svm_model/vectorizer2.pkl', 'rb') as f:\n",
    "    vectorizer2 = pickle.load(f)\n",
    "\n",
    "with open('../src/models/svm_model/model_svm2.pkl', 'rb') as f:\n",
    "    model2 = pickle.load(f)\n",
    "\n",
    "model_indobert = AutoModelForSequenceClassification.from_pretrained(\"../src/models/indobert_model\")\n",
    "tokenizer_indobert = AutoTokenizer.from_pretrained(\"../src/models/indobert_tokenizer\")"
   ]
  },
  {
   "cell_type": "code",
   "execution_count": 16,
   "metadata": {
    "colab": {
     "base_uri": "https://localhost:8080/",
     "height": 17
    },
    "executionInfo": {
     "elapsed": 27,
     "status": "ok",
     "timestamp": 1754105726650,
     "user": {
      "displayName": "alicia siahaya",
      "userId": "00095746084346106118"
     },
     "user_tz": -420
    },
    "id": "J_MYk2vmL71H",
    "outputId": "522bb85c-47ac-46db-f357-bbf11db51b3f"
   },
   "outputs": [],
   "source": [
    "def run_svm_pipeline(df, model_type, vectorizer=None, model=None, preprocess_type=None):\n",
    "  start_time = time.time()\n",
    "  df_preprocessed = prepare_dataset(df, model_type=model_type, preprocess_type=preprocess_type)\n",
    "\n",
    "  df_tfidf = vectorizer.transform(df_preprocessed[f'preprocessed_text_{preprocess_type}'])\n",
    "  tfidf_test_df = pd.DataFrame(df_tfidf.toarray(), columns=vectorizer.get_feature_names_out())\n",
    "\n",
    "  y_pred = model.predict(tfidf_test_df)\n",
    "\n",
    "  end_time = time.time()\n",
    "  execution_time = end_time - start_time\n",
    "  print(f\"Execution time for {model_type} using {preprocess_type}: {execution_time} seconds\")\n",
    "  return y_pred"
   ]
  },
  {
   "cell_type": "code",
   "execution_count": 17,
   "metadata": {
    "colab": {
     "base_uri": "https://localhost:8080/",
     "height": 17
    },
    "executionInfo": {
     "elapsed": 28,
     "status": "ok",
     "timestamp": 1754106449254,
     "user": {
      "displayName": "alicia siahaya",
      "userId": "00095746084346106118"
     },
     "user_tz": -420
    },
    "id": "SfzEiZrQWkjb",
    "outputId": "c0de29ff-381a-4e56-b8d4-f910b1347ce7"
   },
   "outputs": [],
   "source": [
    "from transformers import AutoTokenizer, AutoModelForSequenceClassification\n",
    "import torch\n",
    "\n",
    "def run_indobert_pipeline(df, model, tokenizer):\n",
    "  start_time = time.time()\n",
    "\n",
    "  model.eval()\n",
    "\n",
    "  df_preprocessed = prepare_dataset(df, model_type='indobert')\n",
    "  texts = df_preprocessed['cleaned_text'].tolist()\n",
    "\n",
    "  cleaned_texts = [text_cleansing(t) for t in texts]\n",
    "  inputs = tokenizer(cleaned_texts, return_tensors='pt', padding=True, truncation=True)\n",
    "\n",
    "  with torch.no_grad():\n",
    "      outputs = model(**inputs)\n",
    "      preds = torch.argmax(outputs.logits, dim=1)\n",
    "      labels = [id2label[int(p)] for p in preds]\n",
    "\n",
    "  end_time = time.time()\n",
    "  execution_time = end_time - start_time\n",
    "  print(f\"Execution time for IndoBERT: {execution_time} seconds\")\n",
    "  return labels"
   ]
  },
  {
   "cell_type": "markdown",
   "metadata": {
    "id": "ihYDvPrrZZzV"
   },
   "source": [
    "## Inference"
   ]
  },
  {
   "cell_type": "code",
   "execution_count": 18,
   "metadata": {
    "colab": {
     "base_uri": "https://localhost:8080/",
     "height": 17
    },
    "executionInfo": {
     "elapsed": 38,
     "status": "ok",
     "timestamp": 1754106470677,
     "user": {
      "displayName": "alicia siahaya",
      "userId": "00095746084346106118"
     },
     "user_tz": -420
    },
    "id": "JNAXXrOL5Jh8",
    "outputId": "65114754-2b44-4117-86f8-6c0a3fac2cce"
   },
   "outputs": [],
   "source": [
    "label_map = {'positive':1, 'negative':0}\n",
    "id2label = {v: k for k, v in label_map.items()}\n",
    "target_names = ['negative', 'positive']"
   ]
  },
  {
   "cell_type": "markdown",
   "metadata": {
    "id": "RtcrPoet365y"
   },
   "source": [
    "### **SVM**"
   ]
  },
  {
   "cell_type": "code",
   "execution_count": 21,
   "metadata": {
    "colab": {
     "base_uri": "https://localhost:8080/",
     "height": 86
    },
    "executionInfo": {
     "elapsed": 14217,
     "status": "ok",
     "timestamp": 1754106103745,
     "user": {
      "displayName": "alicia siahaya",
      "userId": "00095746084346106118"
     },
     "user_tz": -420
    },
    "id": "6a30c25e",
    "outputId": "43fd4fad-bb08-4eae-c8f6-7eaa14e022f4"
   },
   "outputs": [
    {
     "name": "stdout",
     "output_type": "stream",
     "text": [
      "Training shape: (481,), (481,)\n",
      "Test shape: (121,), (121,)\n",
      "Execution time for svm using nlp_id: 1.4417951107025146 seconds\n",
      "Execution time for svm using stanza: 53.72056698799133 seconds\n"
     ]
    }
   ],
   "source": [
    "X_train, y_train, X_test, y_test = split_data(df_preprocess, validation_data=False)\n",
    "y_train = y_train.map(label_map)\n",
    "y_test = y_test.map(label_map)\n",
    "\n",
    "df_test = pd.DataFrame({'text': X_test, 'sentiment': y_test})\n",
    "\n",
    "y_pred_test_nlp_id = run_svm_pipeline(df_test, model_type='svm', vectorizer=vectorizer1, model=model1, preprocess_type='nlp_id')\n",
    "y_pred_test_stanza = run_svm_pipeline(df_test, model_type='svm', vectorizer=vectorizer2, model=model2, preprocess_type='stanza')"
   ]
  },
  {
   "cell_type": "code",
   "execution_count": 30,
   "metadata": {
    "colab": {
     "base_uri": "https://localhost:8080/",
     "height": 191
    },
    "executionInfo": {
     "elapsed": 36,
     "status": "ok",
     "timestamp": 1754106140879,
     "user": {
      "displayName": "alicia siahaya",
      "userId": "00095746084346106118"
     },
     "user_tz": -420
    },
    "id": "vMqmSPgi06Hg",
    "outputId": "42346cdb-e7ad-49a3-e286-f4112ebe7868"
   },
   "outputs": [
    {
     "name": "stdout",
     "output_type": "stream",
     "text": [
      "Classification Report for SVM with nlp_id:\n",
      "              precision    recall  f1-score   support\n",
      "\n",
      "    negative       0.92      0.95      0.94        61\n",
      "    positive       0.95      0.92      0.93        60\n",
      "\n",
      "    accuracy                           0.93       121\n",
      "   macro avg       0.93      0.93      0.93       121\n",
      "weighted avg       0.93      0.93      0.93       121\n",
      "\n"
     ]
    }
   ],
   "source": [
    "print(\"Classification Report for SVM with nlp_id:\")\n",
    "print(classification_report(y_test, y_pred_test_nlp_id, target_names=target_names))"
   ]
  },
  {
   "cell_type": "code",
   "execution_count": 36,
   "metadata": {
    "colab": {
     "base_uri": "https://localhost:8080/",
     "height": 191
    },
    "executionInfo": {
     "elapsed": 33,
     "status": "ok",
     "timestamp": 1754106143748,
     "user": {
      "displayName": "alicia siahaya",
      "userId": "00095746084346106118"
     },
     "user_tz": -420
    },
    "id": "ZVKjvw_p1N6I",
    "outputId": "447b04ec-fd90-4268-c579-f53ef74b3677"
   },
   "outputs": [
    {
     "data": {
      "text/html": [
       "\n",
       "  <style>\n",
       "    pre {\n",
       "        white-space: pre-wrap;\n",
       "    }\n",
       "  </style>\n",
       "  "
      ],
      "text/plain": [
       "<IPython.core.display.HTML object>"
      ]
     },
     "metadata": {},
     "output_type": "display_data"
    },
    {
     "name": "stdout",
     "output_type": "stream",
     "text": [
      "Classification Report for SVM with stanza:\n",
      "              precision    recall  f1-score   support\n",
      "\n",
      "    negative       0.97      0.97      0.97        61\n",
      "    positive       0.97      0.97      0.97        60\n",
      "\n",
      "    accuracy                           0.97       121\n",
      "   macro avg       0.97      0.97      0.97       121\n",
      "weighted avg       0.97      0.97      0.97       121\n",
      "\n"
     ]
    }
   ],
   "source": [
    "print(\"Classification Report for SVM with stanza:\")\n",
    "print(classification_report(y_test, y_pred_test_stanza, target_names=target_names))"
   ]
  },
  {
   "cell_type": "markdown",
   "metadata": {
    "id": "mntcYUVU39Qu"
   },
   "source": [
    "### **IndoBERT**"
   ]
  },
  {
   "cell_type": "code",
   "execution_count": 31,
   "metadata": {
    "colab": {
     "base_uri": "https://localhost:8080/",
     "height": 86
    },
    "executionInfo": {
     "elapsed": 12050,
     "status": "ok",
     "timestamp": 1754106485518,
     "user": {
      "displayName": "alicia siahaya",
      "userId": "00095746084346106118"
     },
     "user_tz": -420
    },
    "id": "N3GaCqHAWpvo",
    "outputId": "310c7cad-9954-402d-8b0b-3a4e5cd2a6e7"
   },
   "outputs": [
    {
     "name": "stderr",
     "output_type": "stream",
     "text": [
      "Asking to truncate to max_length but no maximum length is provided and the model has no predefined maximum length. Default to no truncation.\n"
     ]
    },
    {
     "name": "stdout",
     "output_type": "stream",
     "text": [
      "Training shape: (481,), (481,)\n",
      "Validation shape: (60,), (60,)\n",
      "Test shape: (61,), (61,)\n",
      "Execution time for IndoBERT: 7.022518157958984 seconds\n"
     ]
    }
   ],
   "source": [
    "x_train, y_train, x_val, y_val, x_test, y_test = split_data(df_preprocess, validation_data=True)\n",
    "\n",
    "df_test_indobert = pd.DataFrame({'text': x_test, 'sentiment': y_test})\n",
    "\n",
    "y_pred_indobert = run_indobert_pipeline(df_test_indobert, model_indobert, tokenizer_indobert)"
   ]
  },
  {
   "cell_type": "code",
   "execution_count": 32,
   "metadata": {
    "colab": {
     "base_uri": "https://localhost:8080/",
     "height": 191
    },
    "executionInfo": {
     "elapsed": 23,
     "status": "ok",
     "timestamp": 1754106513815,
     "user": {
      "displayName": "alicia siahaya",
      "userId": "00095746084346106118"
     },
     "user_tz": -420
    },
    "id": "-QIam533UzJ6",
    "outputId": "4df98b63-8157-445c-d386-65031248f88e"
   },
   "outputs": [
    {
     "name": "stdout",
     "output_type": "stream",
     "text": [
      "Classification Report for IndoBERT:\n",
      "              precision    recall  f1-score   support\n",
      "\n",
      "    negative       0.97      1.00      0.98        31\n",
      "    positive       1.00      0.97      0.98        30\n",
      "\n",
      "    accuracy                           0.98        61\n",
      "   macro avg       0.98      0.98      0.98        61\n",
      "weighted avg       0.98      0.98      0.98        61\n",
      "\n"
     ]
    }
   ],
   "source": [
    "print(\"Classification Report for IndoBERT:\")\n",
    "print(classification_report(y_test, y_pred_indobert))"
   ]
  },
  {
   "cell_type": "markdown",
   "metadata": {
    "id": "DVILBz4f5Zbb"
   },
   "source": [
    "# **Summary**\n",
    "\n",
    "## **SVM**\n",
    "SVM model used two different preprocessing methods and TF-IDF Vectorizer:\n",
    "- nlp_id for lemmatization and stopwords removal -> achieved **93%** accuracy\n",
    "- stanza for lemmatization and Sastrawi for stopwords removal -> achieved **97%** accuracy\n",
    "\n",
    "While the accuracy is both decent and not that different, the time execution between both model showed a bigger gap in predicting the test set. SVM using nlp_id predicted in **under 1 second**, while SVM using stanza and Sastrawi predicted in **13 seconds**.\n",
    "\n",
    "With a similar time execution, it is better to use SVM with nlp_id because it's faster than SVM with stanza and Sastrawi.\n",
    "\n",
    "## **IndoBERT**\n",
    "IndoBERT model achieved higher accuracy than both SVM models, with **98%** accuracy which is expected since it is a larger model. But the time execution and architecture is surely bigger than traditional machine learning models. With a time execution of **7 seconds**.\n",
    "\n",
    "With a time difference of 3 seconds but with a 5% accuracy trade off, it's better to use IndoBERT because it achieved the best accuracy among 3 models."
   ]
  },
  {
   "cell_type": "code",
   "execution_count": null,
   "metadata": {
    "id": "RWEKneie5Omc"
   },
   "outputs": [],
   "source": []
  }
 ],
 "metadata": {
  "accelerator": "GPU",
  "colab": {
   "authorship_tag": "ABX9TyONYTTys1E+17AQ+sNYcjxQ",
   "gpuType": "T4",
   "mount_file_id": "1P30spYHn7omM3IADOTfyxCJcPV31stq_",
   "provenance": []
  },
  "kernelspec": {
   "display_name": "thesis",
   "language": "python",
   "name": "python3"
  },
  "language_info": {
   "codemirror_mode": {
    "name": "ipython",
    "version": 3
   },
   "file_extension": ".py",
   "mimetype": "text/x-python",
   "name": "python",
   "nbconvert_exporter": "python",
   "pygments_lexer": "ipython3",
   "version": "3.10.0"
  },
  "widgets": {
   "application/vnd.jupyter.widget-state+json": {
    "067f2bfd96bd4836bc6febf0a09d8b0c": {
     "model_module": "@jupyter-widgets/base",
     "model_module_version": "1.2.0",
     "model_name": "LayoutModel",
     "state": {
      "_model_module": "@jupyter-widgets/base",
      "_model_module_version": "1.2.0",
      "_model_name": "LayoutModel",
      "_view_count": null,
      "_view_module": "@jupyter-widgets/base",
      "_view_module_version": "1.2.0",
      "_view_name": "LayoutView",
      "align_content": null,
      "align_items": null,
      "align_self": null,
      "border": null,
      "bottom": null,
      "display": null,
      "flex": null,
      "flex_flow": null,
      "grid_area": null,
      "grid_auto_columns": null,
      "grid_auto_flow": null,
      "grid_auto_rows": null,
      "grid_column": null,
      "grid_gap": null,
      "grid_row": null,
      "grid_template_areas": null,
      "grid_template_columns": null,
      "grid_template_rows": null,
      "height": null,
      "justify_content": null,
      "justify_items": null,
      "left": null,
      "margin": null,
      "max_height": null,
      "max_width": null,
      "min_height": null,
      "min_width": null,
      "object_fit": null,
      "object_position": null,
      "order": null,
      "overflow": null,
      "overflow_x": null,
      "overflow_y": null,
      "padding": null,
      "right": null,
      "top": null,
      "visibility": null,
      "width": null
     }
    },
    "0aa9e4d15f9140b8983e48f1266f1394": {
     "model_module": "@jupyter-widgets/controls",
     "model_module_version": "1.5.0",
     "model_name": "HTMLModel",
     "state": {
      "_dom_classes": [],
      "_model_module": "@jupyter-widgets/controls",
      "_model_module_version": "1.5.0",
      "_model_name": "HTMLModel",
      "_view_count": null,
      "_view_module": "@jupyter-widgets/controls",
      "_view_module_version": "1.5.0",
      "_view_name": "HTMLView",
      "description": "",
      "description_tooltip": null,
      "layout": "IPY_MODEL_067f2bfd96bd4836bc6febf0a09d8b0c",
      "placeholder": "​",
      "style": "IPY_MODEL_1029bd6b6194477889f01bb4ffbadc27",
      "value": " 396M/396M [00:02&lt;00:00, 165MB/s]"
     }
    },
    "0d38e15712a04133959793daef5d2372": {
     "model_module": "@jupyter-widgets/controls",
     "model_module_version": "1.5.0",
     "model_name": "HTMLModel",
     "state": {
      "_dom_classes": [],
      "_model_module": "@jupyter-widgets/controls",
      "_model_module_version": "1.5.0",
      "_model_name": "HTMLModel",
      "_view_count": null,
      "_view_module": "@jupyter-widgets/controls",
      "_view_module_version": "1.5.0",
      "_view_name": "HTMLView",
      "description": "",
      "description_tooltip": null,
      "layout": "IPY_MODEL_6f3ff52629a44debb2efa092e47642b1",
      "placeholder": "​",
      "style": "IPY_MODEL_b2a4a7d7f78746dd9317b12a390665f5",
      "value": "Downloading https://huggingface.co/stanfordnlp/stanza-id/resolve/v1.10.0/models/default.zip: 100%"
     }
    },
    "1029bd6b6194477889f01bb4ffbadc27": {
     "model_module": "@jupyter-widgets/controls",
     "model_module_version": "1.5.0",
     "model_name": "DescriptionStyleModel",
     "state": {
      "_model_module": "@jupyter-widgets/controls",
      "_model_module_version": "1.5.0",
      "_model_name": "DescriptionStyleModel",
      "_view_count": null,
      "_view_module": "@jupyter-widgets/base",
      "_view_module_version": "1.2.0",
      "_view_name": "StyleView",
      "description_width": ""
     }
    },
    "265e584fd22a4e02af8bf83f4a2cfae1": {
     "model_module": "@jupyter-widgets/base",
     "model_module_version": "1.2.0",
     "model_name": "LayoutModel",
     "state": {
      "_model_module": "@jupyter-widgets/base",
      "_model_module_version": "1.2.0",
      "_model_name": "LayoutModel",
      "_view_count": null,
      "_view_module": "@jupyter-widgets/base",
      "_view_module_version": "1.2.0",
      "_view_name": "LayoutView",
      "align_content": null,
      "align_items": null,
      "align_self": null,
      "border": null,
      "bottom": null,
      "display": null,
      "flex": null,
      "flex_flow": null,
      "grid_area": null,
      "grid_auto_columns": null,
      "grid_auto_flow": null,
      "grid_auto_rows": null,
      "grid_column": null,
      "grid_gap": null,
      "grid_row": null,
      "grid_template_areas": null,
      "grid_template_columns": null,
      "grid_template_rows": null,
      "height": null,
      "justify_content": null,
      "justify_items": null,
      "left": null,
      "margin": null,
      "max_height": null,
      "max_width": null,
      "min_height": null,
      "min_width": null,
      "object_fit": null,
      "object_position": null,
      "order": null,
      "overflow": null,
      "overflow_x": null,
      "overflow_y": null,
      "padding": null,
      "right": null,
      "top": null,
      "visibility": null,
      "width": null
     }
    },
    "29c430ce61784c8c9d214093a0675285": {
     "model_module": "@jupyter-widgets/controls",
     "model_module_version": "1.5.0",
     "model_name": "HTMLModel",
     "state": {
      "_dom_classes": [],
      "_model_module": "@jupyter-widgets/controls",
      "_model_module_version": "1.5.0",
      "_model_name": "HTMLModel",
      "_view_count": null,
      "_view_module": "@jupyter-widgets/controls",
      "_view_module_version": "1.5.0",
      "_view_name": "HTMLView",
      "description": "",
      "description_tooltip": null,
      "layout": "IPY_MODEL_5c32ff9ddf4140499aca2cc22450884c",
      "placeholder": "​",
      "style": "IPY_MODEL_4d1a589083bc40bd9538bd5f27bfeaa2",
      "value": "Downloading https://raw.githubusercontent.com/stanfordnlp/stanza-resources/main/resources_1.10.0.json: "
     }
    },
    "2df5b7e5cffa436d92999aa686c21a62": {
     "model_module": "@jupyter-widgets/controls",
     "model_module_version": "1.5.0",
     "model_name": "FloatProgressModel",
     "state": {
      "_dom_classes": [],
      "_model_module": "@jupyter-widgets/controls",
      "_model_module_version": "1.5.0",
      "_model_name": "FloatProgressModel",
      "_view_count": null,
      "_view_module": "@jupyter-widgets/controls",
      "_view_module_version": "1.5.0",
      "_view_name": "ProgressView",
      "bar_style": "success",
      "description": "",
      "description_tooltip": null,
      "layout": "IPY_MODEL_c9f298db37fc43b59ec9b484f3b5b0c7",
      "max": 53530,
      "min": 0,
      "orientation": "horizontal",
      "style": "IPY_MODEL_5fa3add8bb5847b6b5ae7b68931ac22a",
      "value": 53530
     }
    },
    "3e6cd84c5cf1411aa1c7d4c8d681af82": {
     "model_module": "@jupyter-widgets/base",
     "model_module_version": "1.2.0",
     "model_name": "LayoutModel",
     "state": {
      "_model_module": "@jupyter-widgets/base",
      "_model_module_version": "1.2.0",
      "_model_name": "LayoutModel",
      "_view_count": null,
      "_view_module": "@jupyter-widgets/base",
      "_view_module_version": "1.2.0",
      "_view_name": "LayoutView",
      "align_content": null,
      "align_items": null,
      "align_self": null,
      "border": null,
      "bottom": null,
      "display": null,
      "flex": null,
      "flex_flow": null,
      "grid_area": null,
      "grid_auto_columns": null,
      "grid_auto_flow": null,
      "grid_auto_rows": null,
      "grid_column": null,
      "grid_gap": null,
      "grid_row": null,
      "grid_template_areas": null,
      "grid_template_columns": null,
      "grid_template_rows": null,
      "height": null,
      "justify_content": null,
      "justify_items": null,
      "left": null,
      "margin": null,
      "max_height": null,
      "max_width": null,
      "min_height": null,
      "min_width": null,
      "object_fit": null,
      "object_position": null,
      "order": null,
      "overflow": null,
      "overflow_x": null,
      "overflow_y": null,
      "padding": null,
      "right": null,
      "top": null,
      "visibility": null,
      "width": null
     }
    },
    "408a48578d46410f912dd353e2ca6155": {
     "model_module": "@jupyter-widgets/controls",
     "model_module_version": "1.5.0",
     "model_name": "HTMLModel",
     "state": {
      "_dom_classes": [],
      "_model_module": "@jupyter-widgets/controls",
      "_model_module_version": "1.5.0",
      "_model_name": "HTMLModel",
      "_view_count": null,
      "_view_module": "@jupyter-widgets/controls",
      "_view_module_version": "1.5.0",
      "_view_name": "HTMLView",
      "description": "",
      "description_tooltip": null,
      "layout": "IPY_MODEL_a4633b69ce8645b2a793986dbb45b16d",
      "placeholder": "​",
      "style": "IPY_MODEL_ebbd3d9aa9e542728c945b70ec66b500",
      "value": "Downloading https://raw.githubusercontent.com/stanfordnlp/stanza-resources/main/resources_1.10.0.json: "
     }
    },
    "48e1be006b95401cbf334c71ef80476c": {
     "model_module": "@jupyter-widgets/controls",
     "model_module_version": "1.5.0",
     "model_name": "DescriptionStyleModel",
     "state": {
      "_model_module": "@jupyter-widgets/controls",
      "_model_module_version": "1.5.0",
      "_model_name": "DescriptionStyleModel",
      "_view_count": null,
      "_view_module": "@jupyter-widgets/base",
      "_view_module_version": "1.2.0",
      "_view_name": "StyleView",
      "description_width": ""
     }
    },
    "4d1a589083bc40bd9538bd5f27bfeaa2": {
     "model_module": "@jupyter-widgets/controls",
     "model_module_version": "1.5.0",
     "model_name": "DescriptionStyleModel",
     "state": {
      "_model_module": "@jupyter-widgets/controls",
      "_model_module_version": "1.5.0",
      "_model_name": "DescriptionStyleModel",
      "_view_count": null,
      "_view_module": "@jupyter-widgets/base",
      "_view_module_version": "1.2.0",
      "_view_name": "StyleView",
      "description_width": ""
     }
    },
    "5c32ff9ddf4140499aca2cc22450884c": {
     "model_module": "@jupyter-widgets/base",
     "model_module_version": "1.2.0",
     "model_name": "LayoutModel",
     "state": {
      "_model_module": "@jupyter-widgets/base",
      "_model_module_version": "1.2.0",
      "_model_name": "LayoutModel",
      "_view_count": null,
      "_view_module": "@jupyter-widgets/base",
      "_view_module_version": "1.2.0",
      "_view_name": "LayoutView",
      "align_content": null,
      "align_items": null,
      "align_self": null,
      "border": null,
      "bottom": null,
      "display": null,
      "flex": null,
      "flex_flow": null,
      "grid_area": null,
      "grid_auto_columns": null,
      "grid_auto_flow": null,
      "grid_auto_rows": null,
      "grid_column": null,
      "grid_gap": null,
      "grid_row": null,
      "grid_template_areas": null,
      "grid_template_columns": null,
      "grid_template_rows": null,
      "height": null,
      "justify_content": null,
      "justify_items": null,
      "left": null,
      "margin": null,
      "max_height": null,
      "max_width": null,
      "min_height": null,
      "min_width": null,
      "object_fit": null,
      "object_position": null,
      "order": null,
      "overflow": null,
      "overflow_x": null,
      "overflow_y": null,
      "padding": null,
      "right": null,
      "top": null,
      "visibility": null,
      "width": null
     }
    },
    "5fa3add8bb5847b6b5ae7b68931ac22a": {
     "model_module": "@jupyter-widgets/controls",
     "model_module_version": "1.5.0",
     "model_name": "ProgressStyleModel",
     "state": {
      "_model_module": "@jupyter-widgets/controls",
      "_model_module_version": "1.5.0",
      "_model_name": "ProgressStyleModel",
      "_view_count": null,
      "_view_module": "@jupyter-widgets/base",
      "_view_module_version": "1.2.0",
      "_view_name": "StyleView",
      "bar_color": null,
      "description_width": ""
     }
    },
    "62eb0492414945f48db9219e0fbb8f55": {
     "model_module": "@jupyter-widgets/controls",
     "model_module_version": "1.5.0",
     "model_name": "HTMLModel",
     "state": {
      "_dom_classes": [],
      "_model_module": "@jupyter-widgets/controls",
      "_model_module_version": "1.5.0",
      "_model_name": "HTMLModel",
      "_view_count": null,
      "_view_module": "@jupyter-widgets/controls",
      "_view_module_version": "1.5.0",
      "_view_name": "HTMLView",
      "description": "",
      "description_tooltip": null,
      "layout": "IPY_MODEL_265e584fd22a4e02af8bf83f4a2cfae1",
      "placeholder": "​",
      "style": "IPY_MODEL_f2a56143f6d44a8bb4b528d0c8899d0b",
      "value": " 433k/? [00:00&lt;00:00, 8.38MB/s]"
     }
    },
    "691b02d5c5c045b08a80bc7f1d33ef2d": {
     "model_module": "@jupyter-widgets/base",
     "model_module_version": "1.2.0",
     "model_name": "LayoutModel",
     "state": {
      "_model_module": "@jupyter-widgets/base",
      "_model_module_version": "1.2.0",
      "_model_name": "LayoutModel",
      "_view_count": null,
      "_view_module": "@jupyter-widgets/base",
      "_view_module_version": "1.2.0",
      "_view_name": "LayoutView",
      "align_content": null,
      "align_items": null,
      "align_self": null,
      "border": null,
      "bottom": null,
      "display": null,
      "flex": null,
      "flex_flow": null,
      "grid_area": null,
      "grid_auto_columns": null,
      "grid_auto_flow": null,
      "grid_auto_rows": null,
      "grid_column": null,
      "grid_gap": null,
      "grid_row": null,
      "grid_template_areas": null,
      "grid_template_columns": null,
      "grid_template_rows": null,
      "height": null,
      "justify_content": null,
      "justify_items": null,
      "left": null,
      "margin": null,
      "max_height": null,
      "max_width": null,
      "min_height": null,
      "min_width": null,
      "object_fit": null,
      "object_position": null,
      "order": null,
      "overflow": null,
      "overflow_x": null,
      "overflow_y": null,
      "padding": null,
      "right": null,
      "top": null,
      "visibility": null,
      "width": null
     }
    },
    "6f3ff52629a44debb2efa092e47642b1": {
     "model_module": "@jupyter-widgets/base",
     "model_module_version": "1.2.0",
     "model_name": "LayoutModel",
     "state": {
      "_model_module": "@jupyter-widgets/base",
      "_model_module_version": "1.2.0",
      "_model_name": "LayoutModel",
      "_view_count": null,
      "_view_module": "@jupyter-widgets/base",
      "_view_module_version": "1.2.0",
      "_view_name": "LayoutView",
      "align_content": null,
      "align_items": null,
      "align_self": null,
      "border": null,
      "bottom": null,
      "display": null,
      "flex": null,
      "flex_flow": null,
      "grid_area": null,
      "grid_auto_columns": null,
      "grid_auto_flow": null,
      "grid_auto_rows": null,
      "grid_column": null,
      "grid_gap": null,
      "grid_row": null,
      "grid_template_areas": null,
      "grid_template_columns": null,
      "grid_template_rows": null,
      "height": null,
      "justify_content": null,
      "justify_items": null,
      "left": null,
      "margin": null,
      "max_height": null,
      "max_width": null,
      "min_height": null,
      "min_width": null,
      "object_fit": null,
      "object_position": null,
      "order": null,
      "overflow": null,
      "overflow_x": null,
      "overflow_y": null,
      "padding": null,
      "right": null,
      "top": null,
      "visibility": null,
      "width": null
     }
    },
    "71cb0a66f8bf4d0f8af8dc70c1f2e666": {
     "model_module": "@jupyter-widgets/controls",
     "model_module_version": "1.5.0",
     "model_name": "FloatProgressModel",
     "state": {
      "_dom_classes": [],
      "_model_module": "@jupyter-widgets/controls",
      "_model_module_version": "1.5.0",
      "_model_name": "FloatProgressModel",
      "_view_count": null,
      "_view_module": "@jupyter-widgets/controls",
      "_view_module_version": "1.5.0",
      "_view_name": "ProgressView",
      "bar_style": "success",
      "description": "",
      "description_tooltip": null,
      "layout": "IPY_MODEL_dab6f64e4af44c1ba0e7ffcfb0f01a60",
      "max": 53530,
      "min": 0,
      "orientation": "horizontal",
      "style": "IPY_MODEL_b12d469dd03c45468eddfeeb8cabd455",
      "value": 53530
     }
    },
    "76c9862d902d4d869cbaaef231f0ed28": {
     "model_module": "@jupyter-widgets/controls",
     "model_module_version": "1.5.0",
     "model_name": "HBoxModel",
     "state": {
      "_dom_classes": [],
      "_model_module": "@jupyter-widgets/controls",
      "_model_module_version": "1.5.0",
      "_model_name": "HBoxModel",
      "_view_count": null,
      "_view_module": "@jupyter-widgets/controls",
      "_view_module_version": "1.5.0",
      "_view_name": "HBoxView",
      "box_style": "",
      "children": [
       "IPY_MODEL_29c430ce61784c8c9d214093a0675285",
       "IPY_MODEL_2df5b7e5cffa436d92999aa686c21a62",
       "IPY_MODEL_94968e7d4e5c4d539bb9af31ad058fa9"
      ],
      "layout": "IPY_MODEL_691b02d5c5c045b08a80bc7f1d33ef2d"
     }
    },
    "7b8f727f938540b58754b90a17161f77": {
     "model_module": "@jupyter-widgets/controls",
     "model_module_version": "1.5.0",
     "model_name": "ProgressStyleModel",
     "state": {
      "_model_module": "@jupyter-widgets/controls",
      "_model_module_version": "1.5.0",
      "_model_name": "ProgressStyleModel",
      "_view_count": null,
      "_view_module": "@jupyter-widgets/base",
      "_view_module_version": "1.2.0",
      "_view_name": "StyleView",
      "bar_color": null,
      "description_width": ""
     }
    },
    "94968e7d4e5c4d539bb9af31ad058fa9": {
     "model_module": "@jupyter-widgets/controls",
     "model_module_version": "1.5.0",
     "model_name": "HTMLModel",
     "state": {
      "_dom_classes": [],
      "_model_module": "@jupyter-widgets/controls",
      "_model_module_version": "1.5.0",
      "_model_name": "HTMLModel",
      "_view_count": null,
      "_view_module": "@jupyter-widgets/controls",
      "_view_module_version": "1.5.0",
      "_view_name": "HTMLView",
      "description": "",
      "description_tooltip": null,
      "layout": "IPY_MODEL_d513b8bc85224bada89ca3d309b94c6c",
      "placeholder": "​",
      "style": "IPY_MODEL_48e1be006b95401cbf334c71ef80476c",
      "value": " 433k/? [00:00&lt;00:00, 6.15MB/s]"
     }
    },
    "9bb8527d2e744e4b82a61472687dbaac": {
     "model_module": "@jupyter-widgets/base",
     "model_module_version": "1.2.0",
     "model_name": "LayoutModel",
     "state": {
      "_model_module": "@jupyter-widgets/base",
      "_model_module_version": "1.2.0",
      "_model_name": "LayoutModel",
      "_view_count": null,
      "_view_module": "@jupyter-widgets/base",
      "_view_module_version": "1.2.0",
      "_view_name": "LayoutView",
      "align_content": null,
      "align_items": null,
      "align_self": null,
      "border": null,
      "bottom": null,
      "display": null,
      "flex": null,
      "flex_flow": null,
      "grid_area": null,
      "grid_auto_columns": null,
      "grid_auto_flow": null,
      "grid_auto_rows": null,
      "grid_column": null,
      "grid_gap": null,
      "grid_row": null,
      "grid_template_areas": null,
      "grid_template_columns": null,
      "grid_template_rows": null,
      "height": null,
      "justify_content": null,
      "justify_items": null,
      "left": null,
      "margin": null,
      "max_height": null,
      "max_width": null,
      "min_height": null,
      "min_width": null,
      "object_fit": null,
      "object_position": null,
      "order": null,
      "overflow": null,
      "overflow_x": null,
      "overflow_y": null,
      "padding": null,
      "right": null,
      "top": null,
      "visibility": null,
      "width": null
     }
    },
    "9e3b99c605964ae0b56ea66c75a87332": {
     "model_module": "@jupyter-widgets/controls",
     "model_module_version": "1.5.0",
     "model_name": "HBoxModel",
     "state": {
      "_dom_classes": [],
      "_model_module": "@jupyter-widgets/controls",
      "_model_module_version": "1.5.0",
      "_model_name": "HBoxModel",
      "_view_count": null,
      "_view_module": "@jupyter-widgets/controls",
      "_view_module_version": "1.5.0",
      "_view_name": "HBoxView",
      "box_style": "",
      "children": [
       "IPY_MODEL_408a48578d46410f912dd353e2ca6155",
       "IPY_MODEL_71cb0a66f8bf4d0f8af8dc70c1f2e666",
       "IPY_MODEL_62eb0492414945f48db9219e0fbb8f55"
      ],
      "layout": "IPY_MODEL_9bb8527d2e744e4b82a61472687dbaac"
     }
    },
    "a4633b69ce8645b2a793986dbb45b16d": {
     "model_module": "@jupyter-widgets/base",
     "model_module_version": "1.2.0",
     "model_name": "LayoutModel",
     "state": {
      "_model_module": "@jupyter-widgets/base",
      "_model_module_version": "1.2.0",
      "_model_name": "LayoutModel",
      "_view_count": null,
      "_view_module": "@jupyter-widgets/base",
      "_view_module_version": "1.2.0",
      "_view_name": "LayoutView",
      "align_content": null,
      "align_items": null,
      "align_self": null,
      "border": null,
      "bottom": null,
      "display": null,
      "flex": null,
      "flex_flow": null,
      "grid_area": null,
      "grid_auto_columns": null,
      "grid_auto_flow": null,
      "grid_auto_rows": null,
      "grid_column": null,
      "grid_gap": null,
      "grid_row": null,
      "grid_template_areas": null,
      "grid_template_columns": null,
      "grid_template_rows": null,
      "height": null,
      "justify_content": null,
      "justify_items": null,
      "left": null,
      "margin": null,
      "max_height": null,
      "max_width": null,
      "min_height": null,
      "min_width": null,
      "object_fit": null,
      "object_position": null,
      "order": null,
      "overflow": null,
      "overflow_x": null,
      "overflow_y": null,
      "padding": null,
      "right": null,
      "top": null,
      "visibility": null,
      "width": null
     }
    },
    "b12d469dd03c45468eddfeeb8cabd455": {
     "model_module": "@jupyter-widgets/controls",
     "model_module_version": "1.5.0",
     "model_name": "ProgressStyleModel",
     "state": {
      "_model_module": "@jupyter-widgets/controls",
      "_model_module_version": "1.5.0",
      "_model_name": "ProgressStyleModel",
      "_view_count": null,
      "_view_module": "@jupyter-widgets/base",
      "_view_module_version": "1.2.0",
      "_view_name": "StyleView",
      "bar_color": null,
      "description_width": ""
     }
    },
    "b2a4a7d7f78746dd9317b12a390665f5": {
     "model_module": "@jupyter-widgets/controls",
     "model_module_version": "1.5.0",
     "model_name": "DescriptionStyleModel",
     "state": {
      "_model_module": "@jupyter-widgets/controls",
      "_model_module_version": "1.5.0",
      "_model_name": "DescriptionStyleModel",
      "_view_count": null,
      "_view_module": "@jupyter-widgets/base",
      "_view_module_version": "1.2.0",
      "_view_name": "StyleView",
      "description_width": ""
     }
    },
    "b6c054bf3301402296a6aee354ee5961": {
     "model_module": "@jupyter-widgets/controls",
     "model_module_version": "1.5.0",
     "model_name": "HBoxModel",
     "state": {
      "_dom_classes": [],
      "_model_module": "@jupyter-widgets/controls",
      "_model_module_version": "1.5.0",
      "_model_name": "HBoxModel",
      "_view_count": null,
      "_view_module": "@jupyter-widgets/controls",
      "_view_module_version": "1.5.0",
      "_view_name": "HBoxView",
      "box_style": "",
      "children": [
       "IPY_MODEL_0d38e15712a04133959793daef5d2372",
       "IPY_MODEL_ebbd85746c0b41518bf2666e322cb737",
       "IPY_MODEL_0aa9e4d15f9140b8983e48f1266f1394"
      ],
      "layout": "IPY_MODEL_dde2c5a4228747e7b14e8dc3af42117e"
     }
    },
    "c9f298db37fc43b59ec9b484f3b5b0c7": {
     "model_module": "@jupyter-widgets/base",
     "model_module_version": "1.2.0",
     "model_name": "LayoutModel",
     "state": {
      "_model_module": "@jupyter-widgets/base",
      "_model_module_version": "1.2.0",
      "_model_name": "LayoutModel",
      "_view_count": null,
      "_view_module": "@jupyter-widgets/base",
      "_view_module_version": "1.2.0",
      "_view_name": "LayoutView",
      "align_content": null,
      "align_items": null,
      "align_self": null,
      "border": null,
      "bottom": null,
      "display": null,
      "flex": null,
      "flex_flow": null,
      "grid_area": null,
      "grid_auto_columns": null,
      "grid_auto_flow": null,
      "grid_auto_rows": null,
      "grid_column": null,
      "grid_gap": null,
      "grid_row": null,
      "grid_template_areas": null,
      "grid_template_columns": null,
      "grid_template_rows": null,
      "height": null,
      "justify_content": null,
      "justify_items": null,
      "left": null,
      "margin": null,
      "max_height": null,
      "max_width": null,
      "min_height": null,
      "min_width": null,
      "object_fit": null,
      "object_position": null,
      "order": null,
      "overflow": null,
      "overflow_x": null,
      "overflow_y": null,
      "padding": null,
      "right": null,
      "top": null,
      "visibility": null,
      "width": null
     }
    },
    "d513b8bc85224bada89ca3d309b94c6c": {
     "model_module": "@jupyter-widgets/base",
     "model_module_version": "1.2.0",
     "model_name": "LayoutModel",
     "state": {
      "_model_module": "@jupyter-widgets/base",
      "_model_module_version": "1.2.0",
      "_model_name": "LayoutModel",
      "_view_count": null,
      "_view_module": "@jupyter-widgets/base",
      "_view_module_version": "1.2.0",
      "_view_name": "LayoutView",
      "align_content": null,
      "align_items": null,
      "align_self": null,
      "border": null,
      "bottom": null,
      "display": null,
      "flex": null,
      "flex_flow": null,
      "grid_area": null,
      "grid_auto_columns": null,
      "grid_auto_flow": null,
      "grid_auto_rows": null,
      "grid_column": null,
      "grid_gap": null,
      "grid_row": null,
      "grid_template_areas": null,
      "grid_template_columns": null,
      "grid_template_rows": null,
      "height": null,
      "justify_content": null,
      "justify_items": null,
      "left": null,
      "margin": null,
      "max_height": null,
      "max_width": null,
      "min_height": null,
      "min_width": null,
      "object_fit": null,
      "object_position": null,
      "order": null,
      "overflow": null,
      "overflow_x": null,
      "overflow_y": null,
      "padding": null,
      "right": null,
      "top": null,
      "visibility": null,
      "width": null
     }
    },
    "dab6f64e4af44c1ba0e7ffcfb0f01a60": {
     "model_module": "@jupyter-widgets/base",
     "model_module_version": "1.2.0",
     "model_name": "LayoutModel",
     "state": {
      "_model_module": "@jupyter-widgets/base",
      "_model_module_version": "1.2.0",
      "_model_name": "LayoutModel",
      "_view_count": null,
      "_view_module": "@jupyter-widgets/base",
      "_view_module_version": "1.2.0",
      "_view_name": "LayoutView",
      "align_content": null,
      "align_items": null,
      "align_self": null,
      "border": null,
      "bottom": null,
      "display": null,
      "flex": null,
      "flex_flow": null,
      "grid_area": null,
      "grid_auto_columns": null,
      "grid_auto_flow": null,
      "grid_auto_rows": null,
      "grid_column": null,
      "grid_gap": null,
      "grid_row": null,
      "grid_template_areas": null,
      "grid_template_columns": null,
      "grid_template_rows": null,
      "height": null,
      "justify_content": null,
      "justify_items": null,
      "left": null,
      "margin": null,
      "max_height": null,
      "max_width": null,
      "min_height": null,
      "min_width": null,
      "object_fit": null,
      "object_position": null,
      "order": null,
      "overflow": null,
      "overflow_x": null,
      "overflow_y": null,
      "padding": null,
      "right": null,
      "top": null,
      "visibility": null,
      "width": null
     }
    },
    "dde2c5a4228747e7b14e8dc3af42117e": {
     "model_module": "@jupyter-widgets/base",
     "model_module_version": "1.2.0",
     "model_name": "LayoutModel",
     "state": {
      "_model_module": "@jupyter-widgets/base",
      "_model_module_version": "1.2.0",
      "_model_name": "LayoutModel",
      "_view_count": null,
      "_view_module": "@jupyter-widgets/base",
      "_view_module_version": "1.2.0",
      "_view_name": "LayoutView",
      "align_content": null,
      "align_items": null,
      "align_self": null,
      "border": null,
      "bottom": null,
      "display": null,
      "flex": null,
      "flex_flow": null,
      "grid_area": null,
      "grid_auto_columns": null,
      "grid_auto_flow": null,
      "grid_auto_rows": null,
      "grid_column": null,
      "grid_gap": null,
      "grid_row": null,
      "grid_template_areas": null,
      "grid_template_columns": null,
      "grid_template_rows": null,
      "height": null,
      "justify_content": null,
      "justify_items": null,
      "left": null,
      "margin": null,
      "max_height": null,
      "max_width": null,
      "min_height": null,
      "min_width": null,
      "object_fit": null,
      "object_position": null,
      "order": null,
      "overflow": null,
      "overflow_x": null,
      "overflow_y": null,
      "padding": null,
      "right": null,
      "top": null,
      "visibility": null,
      "width": null
     }
    },
    "ebbd3d9aa9e542728c945b70ec66b500": {
     "model_module": "@jupyter-widgets/controls",
     "model_module_version": "1.5.0",
     "model_name": "DescriptionStyleModel",
     "state": {
      "_model_module": "@jupyter-widgets/controls",
      "_model_module_version": "1.5.0",
      "_model_name": "DescriptionStyleModel",
      "_view_count": null,
      "_view_module": "@jupyter-widgets/base",
      "_view_module_version": "1.2.0",
      "_view_name": "StyleView",
      "description_width": ""
     }
    },
    "ebbd85746c0b41518bf2666e322cb737": {
     "model_module": "@jupyter-widgets/controls",
     "model_module_version": "1.5.0",
     "model_name": "FloatProgressModel",
     "state": {
      "_dom_classes": [],
      "_model_module": "@jupyter-widgets/controls",
      "_model_module_version": "1.5.0",
      "_model_name": "FloatProgressModel",
      "_view_count": null,
      "_view_module": "@jupyter-widgets/controls",
      "_view_module_version": "1.5.0",
      "_view_name": "ProgressView",
      "bar_style": "success",
      "description": "",
      "description_tooltip": null,
      "layout": "IPY_MODEL_3e6cd84c5cf1411aa1c7d4c8d681af82",
      "max": 395565642,
      "min": 0,
      "orientation": "horizontal",
      "style": "IPY_MODEL_7b8f727f938540b58754b90a17161f77",
      "value": 395565642
     }
    },
    "f2a56143f6d44a8bb4b528d0c8899d0b": {
     "model_module": "@jupyter-widgets/controls",
     "model_module_version": "1.5.0",
     "model_name": "DescriptionStyleModel",
     "state": {
      "_model_module": "@jupyter-widgets/controls",
      "_model_module_version": "1.5.0",
      "_model_name": "DescriptionStyleModel",
      "_view_count": null,
      "_view_module": "@jupyter-widgets/base",
      "_view_module_version": "1.2.0",
      "_view_name": "StyleView",
      "description_width": ""
     }
    }
   }
  }
 },
 "nbformat": 4,
 "nbformat_minor": 0
}
